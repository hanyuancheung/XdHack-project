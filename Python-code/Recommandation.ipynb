{
 "cells": [
  {
   "cell_type": "code",
   "execution_count": 1,
   "metadata": {},
   "outputs": [],
   "source": [
    "import pandas as pd\n",
    "import numpy as np\n",
    "from sklearn.metrics.pairwise import cosine_similarity\n",
    "import time\n"
   ]
  },
  {
   "cell_type": "code",
   "execution_count": 7,
   "metadata": {},
   "outputs": [],
   "source": [
    "def init():\n",
    "    '''\n",
    "    初始化，读入文件\n",
    "    :return: 用户表，评分表\n",
    "    '''\n",
    "    user_file = \"/Users/cheung/Downloads/ml-100k/u.user\"\n",
    "    data_file = \"/Users/cheung/Downloads/ml-100k/u.data\"\n",
    "    item_file = \"/Users/cheung/Downloads/ml-100k/u.item\"\n",
    "\n",
    "    u_cols = ['user_id', 'age', 'sex', 'occupation', 'zip_code']\n",
    "    users = pd.read_csv(user_file, sep=\"|\", names=u_cols, encoding='latin-1')\n",
    "\n",
    "    r_cols = ['user_id', 'movie_id', 'rating', 'unix_timestamp']\n",
    "    ratings = pd.read_csv(data_file, sep='\\t', names=r_cols,encoding='latin-1')\n",
    "\n",
    "    i_cols = ['movie_id', 'movie_title' ,'release date','video release date', 'IMDb URL', 'unknown',\n",
    "              'Action', 'Adventure', 'Animation', 'Children\\'s', 'Comedy', 'Crime', 'Documentary',\n",
    "              'Drama', 'Fantasy', 'Film-Noir', 'Horror', 'Musical', 'Mystery', 'Romance', 'Sci-Fi',\n",
    "              'Thriller', 'War', 'Western']\n",
    "    items = pd.read_csv(item_file, sep='|', names=i_cols, encoding='latin-1')\n",
    "    return users, ratings, items\n"
   ]
  },
  {
   "cell_type": "code",
   "execution_count": 3,
   "metadata": {},
   "outputs": [],
   "source": [
    "def constructUserMovieMatrix(users, ratings):\n",
    "    '''\n",
    "    构造用户-商品矩阵\n",
    "    :param users: 用户表\n",
    "    :param ratings: 打分表\n",
    "    :return: 用户对商品评分的矩阵\n",
    "    '''\n",
    "    num_users = users.user_id.unique().shape[0]   #用户数\n",
    "    num_items = ratings.movie_id.unique().shape[0]   #电影总数\n",
    "    data_matrix = np.zeros((num_users, num_items))\n",
    "    for line in ratings.itertuples():\n",
    "        data_matrix[line[1]-1, line[2]-1] = line[3]\n",
    "    return data_matrix\n",
    "\n"
   ]
  },
  {
   "cell_type": "code",
   "execution_count": 4,
   "metadata": {},
   "outputs": [],
   "source": [
    "def calculationSimilarity(data_matrix):\n",
    "    '''\n",
    "    转置计算商品之间相似度矩阵，不转置计算用户之间相似度矩阵\n",
    "    :param data_matrix: 评分矩阵\n",
    "    :return: 商品之间的相似度矩阵\n",
    "    '''\n",
    "    user_similarity = cosine_similarity(data_matrix, dense_output=True)\n",
    "    item_similarity = cosine_similarity(data_matrix.T, dense_output=True)\n",
    "    return item_similarity\n"
   ]
  },
  {
   "cell_type": "code",
   "execution_count": 5,
   "metadata": {},
   "outputs": [],
   "source": [
    "def rec_sys(items,ratings, item_similarity, keywords, k):\n",
    "    '''\n",
    "    推荐系统\n",
    "    :param items: 商品明细表\n",
    "    :param ratings: 评分表\n",
    "    :param item_similarity: 商品相似度矩阵\n",
    "    :param keywords: 输入的商品名称或关键字\n",
    "    :param k: 推荐个数\n",
    "    :return: 推荐商品结果列表\n",
    "    '''\n",
    "    movie_list = []     # 存储推荐商品结果列表\n",
    "    movie_id = list(items[items['movie_title'].str.contains(keywords)].movie_id)[0]   # 获得商品的id\n",
    "    movie_similarity = item_similarity[movie_id - 1]    # 计算该商品的余弦相似度数组\n",
    "    movie_similarity_index = np.argsort(-movie_similarity)[1:k + 1]     # 返回前k+1个最高相似度的索引位置\n",
    "\n",
    "    for index in movie_similarity_index:\n",
    "        rec_movie = list(items[items['movie_id'] == index + 1].movie_title)     # 商品名\n",
    "        rec_movie.append(movie_similarity[index])    # 相似度\n",
    "        rec_movie.append(ratings[ratings['movie_id'] == index+1].rating.mean()) # 平均评分\n",
    "        rec_movie.append(len(ratings[ratings['movie_id'] == index+1]))    # 评分用户数\n",
    "        movie_list.append(rec_movie)\n",
    "    return movie_list\n"
   ]
  },
  {
   "cell_type": "code",
   "execution_count": 8,
   "metadata": {},
   "outputs": [
    {
     "name": "stdout",
     "output_type": "stream",
     "text": [
      "[['Outbreak (1995)', 0.4771485607176351, 3.2403846153846154, 104], ['Client, The (1994)', 0.4185073174104336, 3.381443298969072, 97], ['Net, The (1995)', 0.40070132781155243, 3.0083333333333333, 120], ['Under Siege 2: Dark Territory (1995)', 0.3980230845871082, 2.4583333333333335, 48], ['Demolition Man (1993)', 0.3967221364409852, 3.152173913043478, 92]]\n",
      "推荐耗时： 0.2750980854034424\n"
     ]
    }
   ],
   "source": [
    "if __name__ == '__main__':\n",
    "    beginTime = time.time()\n",
    "    keywords = \"Assassins\"\n",
    "    k = 5\n",
    "    keywords = keywords.title()\n",
    "    users, ratings, items = init()\n",
    "    data_matrix = constructUserMovieMatrix(users, ratings)\n",
    "    similarity = calculationSimilarity(data_matrix)\n",
    "    movie_list = rec_sys(items, ratings, similarity, keywords, k)\n",
    "    print(movie_list)\n",
    "    print(\"推荐耗时：\", time.time()-beginTime)"
   ]
  },
  {
   "cell_type": "code",
   "execution_count": null,
   "metadata": {},
   "outputs": [],
   "source": []
  }
 ],
 "metadata": {
  "kernelspec": {
   "display_name": "Python 3",
   "language": "python",
   "name": "python3"
  },
  "language_info": {
   "codemirror_mode": {
    "name": "ipython",
    "version": 3
   },
   "file_extension": ".py",
   "mimetype": "text/x-python",
   "name": "python",
   "nbconvert_exporter": "python",
   "pygments_lexer": "ipython3",
   "version": "3.7.3"
  }
 },
 "nbformat": 4,
 "nbformat_minor": 2
}
